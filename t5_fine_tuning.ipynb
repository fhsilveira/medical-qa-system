{
 "cells": [
  {
   "cell_type": "code",
   "execution_count": 1,
   "metadata": {},
   "outputs": [],
   "source": [
    "import pandas as pd\n",
    "from random import randint\n",
    "import json\n",
    "import os"
   ]
  },
  {
   "cell_type": "code",
   "execution_count": 2,
   "metadata": {},
   "outputs": [],
   "source": [
    "# define dataframe\n",
    "data_path = \"./data/input/intern_screening_dataset.csv\"\n",
    "\n",
    "df = pd.read_csv(data_path)"
   ]
  },
  {
   "cell_type": "markdown",
   "metadata": {},
   "source": [
    "## Inspect data"
   ]
  },
  {
   "cell_type": "code",
   "execution_count": 3,
   "metadata": {},
   "outputs": [
    {
     "data": {
      "text/plain": [
       "(16406, 2)"
      ]
     },
     "execution_count": 3,
     "metadata": {},
     "output_type": "execute_result"
    }
   ],
   "source": [
    "# df shape\n",
    "df.shape"
   ]
  },
  {
   "cell_type": "code",
   "execution_count": 4,
   "metadata": {},
   "outputs": [
    {
     "data": {
      "text/html": [
       "<div>\n",
       "<style scoped>\n",
       "    .dataframe tbody tr th:only-of-type {\n",
       "        vertical-align: middle;\n",
       "    }\n",
       "\n",
       "    .dataframe tbody tr th {\n",
       "        vertical-align: top;\n",
       "    }\n",
       "\n",
       "    .dataframe thead th {\n",
       "        text-align: right;\n",
       "    }\n",
       "</style>\n",
       "<table border=\"1\" class=\"dataframe\">\n",
       "  <thead>\n",
       "    <tr style=\"text-align: right;\">\n",
       "      <th></th>\n",
       "      <th>question</th>\n",
       "      <th>answer</th>\n",
       "    </tr>\n",
       "  </thead>\n",
       "  <tbody>\n",
       "    <tr>\n",
       "      <th>0</th>\n",
       "      <td>What is (are) Glaucoma ?</td>\n",
       "      <td>Glaucoma is a group of diseases that can damag...</td>\n",
       "    </tr>\n",
       "    <tr>\n",
       "      <th>1</th>\n",
       "      <td>What is (are) Glaucoma ?</td>\n",
       "      <td>The optic nerve is a bundle of more than 1 mil...</td>\n",
       "    </tr>\n",
       "    <tr>\n",
       "      <th>2</th>\n",
       "      <td>What is (are) Glaucoma ?</td>\n",
       "      <td>Open-angle glaucoma is the most common form of...</td>\n",
       "    </tr>\n",
       "    <tr>\n",
       "      <th>3</th>\n",
       "      <td>Who is at risk for Glaucoma? ?</td>\n",
       "      <td>Anyone can develop glaucoma. Some people are a...</td>\n",
       "    </tr>\n",
       "    <tr>\n",
       "      <th>4</th>\n",
       "      <td>How to prevent Glaucoma ?</td>\n",
       "      <td>At this time, we do not know how to prevent gl...</td>\n",
       "    </tr>\n",
       "  </tbody>\n",
       "</table>\n",
       "</div>"
      ],
      "text/plain": [
       "                         question  \\\n",
       "0        What is (are) Glaucoma ?   \n",
       "1        What is (are) Glaucoma ?   \n",
       "2        What is (are) Glaucoma ?   \n",
       "3  Who is at risk for Glaucoma? ?   \n",
       "4       How to prevent Glaucoma ?   \n",
       "\n",
       "                                              answer  \n",
       "0  Glaucoma is a group of diseases that can damag...  \n",
       "1  The optic nerve is a bundle of more than 1 mil...  \n",
       "2  Open-angle glaucoma is the most common form of...  \n",
       "3  Anyone can develop glaucoma. Some people are a...  \n",
       "4  At this time, we do not know how to prevent gl...  "
      ]
     },
     "execution_count": 4,
     "metadata": {},
     "output_type": "execute_result"
    }
   ],
   "source": [
    "# inspect beggining of data\n",
    "df.head()"
   ]
  },
  {
   "cell_type": "code",
   "execution_count": 5,
   "metadata": {},
   "outputs": [
    {
     "data": {
      "text/html": [
       "<div>\n",
       "<style scoped>\n",
       "    .dataframe tbody tr th:only-of-type {\n",
       "        vertical-align: middle;\n",
       "    }\n",
       "\n",
       "    .dataframe tbody tr th {\n",
       "        vertical-align: top;\n",
       "    }\n",
       "\n",
       "    .dataframe thead th {\n",
       "        text-align: right;\n",
       "    }\n",
       "</style>\n",
       "<table border=\"1\" class=\"dataframe\">\n",
       "  <thead>\n",
       "    <tr style=\"text-align: right;\">\n",
       "      <th></th>\n",
       "      <th>question</th>\n",
       "      <th>answer</th>\n",
       "    </tr>\n",
       "  </thead>\n",
       "  <tbody>\n",
       "    <tr>\n",
       "      <th>6137</th>\n",
       "      <td>What are the treatments for Congenital contrac...</td>\n",
       "      <td>How might congenital contractural arachnodacty...</td>\n",
       "    </tr>\n",
       "    <tr>\n",
       "      <th>6138</th>\n",
       "      <td>What is (are) Geographic tongue ?</td>\n",
       "      <td>Geographic tongue is a condition that causes c...</td>\n",
       "    </tr>\n",
       "    <tr>\n",
       "      <th>6139</th>\n",
       "      <td>What are the symptoms of Geographic tongue ?</td>\n",
       "      <td>What are the signs and symptoms of Geographic ...</td>\n",
       "    </tr>\n",
       "    <tr>\n",
       "      <th>6140</th>\n",
       "      <td>What causes Geographic tongue ?</td>\n",
       "      <td>What causes geographic tongue? Is it genetic? ...</td>\n",
       "    </tr>\n",
       "    <tr>\n",
       "      <th>6141</th>\n",
       "      <td>What are the treatments for Geographic tongue ?</td>\n",
       "      <td>What treatment is available for geographic ton...</td>\n",
       "    </tr>\n",
       "    <tr>\n",
       "      <th>6142</th>\n",
       "      <td>What is (are) Synovial Chondromatosis ?</td>\n",
       "      <td>Synovial chondromatosis is a type of non-cance...</td>\n",
       "    </tr>\n",
       "    <tr>\n",
       "      <th>6143</th>\n",
       "      <td>What causes Synovial Chondromatosis ?</td>\n",
       "      <td>What causes synovial chondromatosis? The exact...</td>\n",
       "    </tr>\n",
       "    <tr>\n",
       "      <th>6144</th>\n",
       "      <td>What are the symptoms of Mucopolysaccharidosis...</td>\n",
       "      <td>What are the signs and symptoms of Mucopolysac...</td>\n",
       "    </tr>\n",
       "    <tr>\n",
       "      <th>6145</th>\n",
       "      <td>What is (are) Congenital laryngeal palsy ?</td>\n",
       "      <td>Congenital laryngeal palsy is also known as co...</td>\n",
       "    </tr>\n",
       "    <tr>\n",
       "      <th>6146</th>\n",
       "      <td>What are the symptoms of Congenital laryngeal ...</td>\n",
       "      <td>What are the signs and symptoms associated wit...</td>\n",
       "    </tr>\n",
       "  </tbody>\n",
       "</table>\n",
       "</div>"
      ],
      "text/plain": [
       "                                               question  \\\n",
       "6137  What are the treatments for Congenital contrac...   \n",
       "6138                  What is (are) Geographic tongue ?   \n",
       "6139       What are the symptoms of Geographic tongue ?   \n",
       "6140                    What causes Geographic tongue ?   \n",
       "6141    What are the treatments for Geographic tongue ?   \n",
       "6142            What is (are) Synovial Chondromatosis ?   \n",
       "6143              What causes Synovial Chondromatosis ?   \n",
       "6144  What are the symptoms of Mucopolysaccharidosis...   \n",
       "6145         What is (are) Congenital laryngeal palsy ?   \n",
       "6146  What are the symptoms of Congenital laryngeal ...   \n",
       "\n",
       "                                                 answer  \n",
       "6137  How might congenital contractural arachnodacty...  \n",
       "6138  Geographic tongue is a condition that causes c...  \n",
       "6139  What are the signs and symptoms of Geographic ...  \n",
       "6140  What causes geographic tongue? Is it genetic? ...  \n",
       "6141  What treatment is available for geographic ton...  \n",
       "6142  Synovial chondromatosis is a type of non-cance...  \n",
       "6143  What causes synovial chondromatosis? The exact...  \n",
       "6144  What are the signs and symptoms of Mucopolysac...  \n",
       "6145  Congenital laryngeal palsy is also known as co...  \n",
       "6146  What are the signs and symptoms associated wit...  "
      ]
     },
     "execution_count": 5,
     "metadata": {},
     "output_type": "execute_result"
    }
   ],
   "source": [
    "# inspect random data span\n",
    "span = 10\n",
    "\n",
    "start = randint(0, len(df.index) - span)\n",
    "df.iloc[start:start + span]"
   ]
  },
  {
   "cell_type": "code",
   "execution_count": 6,
   "metadata": {},
   "outputs": [
    {
     "name": "stdout",
     "output_type": "stream",
     "text": [
      "question: What is (are) Glaucoma ?\n",
      "answer: Glaucoma is a group of diseases that can damage the eye's optic nerve and result in vision loss and blindness. The most common form of the disease is open-angle glaucoma. With early treatment, you can often protect your eyes against serious vision loss. (Watch the video to learn more about glaucoma. To enlarge the video, click the brackets in the lower right-hand corner. To reduce the video, press the Escape (Esc) button on your keyboard.)  See this graphic for a quick overview of glaucoma, including how many people it affects, whos at risk, what to do if you have it, and how to learn more.  See a glossary of glaucoma terms.\n"
     ]
    }
   ],
   "source": [
    "# inspect specific row\n",
    "selected_row = 0\n",
    "\n",
    "row = df.iloc[selected_row]\n",
    "for key, value in row.items():\n",
    "    print(f\"{key}: {value}\")"
   ]
  },
  {
   "cell_type": "code",
   "execution_count": 7,
   "metadata": {},
   "outputs": [
    {
     "data": {
      "text/html": [
       "<div>\n",
       "<style scoped>\n",
       "    .dataframe tbody tr th:only-of-type {\n",
       "        vertical-align: middle;\n",
       "    }\n",
       "\n",
       "    .dataframe tbody tr th {\n",
       "        vertical-align: top;\n",
       "    }\n",
       "\n",
       "    .dataframe thead th {\n",
       "        text-align: right;\n",
       "    }\n",
       "</style>\n",
       "<table border=\"1\" class=\"dataframe\">\n",
       "  <thead>\n",
       "    <tr style=\"text-align: right;\">\n",
       "      <th></th>\n",
       "      <th>question</th>\n",
       "      <th>answer</th>\n",
       "    </tr>\n",
       "  </thead>\n",
       "  <tbody>\n",
       "    <tr>\n",
       "      <th>16401</th>\n",
       "      <td>What is (are) Diabetic Neuropathies: The Nerve...</td>\n",
       "      <td>Autonomic neuropathy affects the nerves that c...</td>\n",
       "    </tr>\n",
       "    <tr>\n",
       "      <th>16402</th>\n",
       "      <td>What is (are) Diabetic Neuropathies: The Nerve...</td>\n",
       "      <td>Proximal neuropathy, sometimes called lumbosac...</td>\n",
       "    </tr>\n",
       "    <tr>\n",
       "      <th>16403</th>\n",
       "      <td>What is (are) Diabetic Neuropathies: The Nerve...</td>\n",
       "      <td>Focal neuropathy appears suddenly and affects ...</td>\n",
       "    </tr>\n",
       "    <tr>\n",
       "      <th>16404</th>\n",
       "      <td>How to prevent Diabetic Neuropathies: The Nerv...</td>\n",
       "      <td>The best way to prevent neuropathy is to keep ...</td>\n",
       "    </tr>\n",
       "    <tr>\n",
       "      <th>16405</th>\n",
       "      <td>How to diagnose Diabetic Neuropathies: The Ner...</td>\n",
       "      <td>Doctors diagnose neuropathy on the basis of sy...</td>\n",
       "    </tr>\n",
       "  </tbody>\n",
       "</table>\n",
       "</div>"
      ],
      "text/plain": [
       "                                                question  \\\n",
       "16401  What is (are) Diabetic Neuropathies: The Nerve...   \n",
       "16402  What is (are) Diabetic Neuropathies: The Nerve...   \n",
       "16403  What is (are) Diabetic Neuropathies: The Nerve...   \n",
       "16404  How to prevent Diabetic Neuropathies: The Nerv...   \n",
       "16405  How to diagnose Diabetic Neuropathies: The Ner...   \n",
       "\n",
       "                                                  answer  \n",
       "16401  Autonomic neuropathy affects the nerves that c...  \n",
       "16402  Proximal neuropathy, sometimes called lumbosac...  \n",
       "16403  Focal neuropathy appears suddenly and affects ...  \n",
       "16404  The best way to prevent neuropathy is to keep ...  \n",
       "16405  Doctors diagnose neuropathy on the basis of sy...  "
      ]
     },
     "execution_count": 7,
     "metadata": {},
     "output_type": "execute_result"
    }
   ],
   "source": [
    "# inspect end of data\n",
    "df.tail()"
   ]
  },
  {
   "cell_type": "code",
   "execution_count": 8,
   "metadata": {},
   "outputs": [
    {
     "name": "stdout",
     "output_type": "stream",
     "text": [
      "<class 'pandas.core.frame.DataFrame'>\n",
      "RangeIndex: 16406 entries, 0 to 16405\n",
      "Data columns (total 2 columns):\n",
      " #   Column    Non-Null Count  Dtype \n",
      "---  ------    --------------  ----- \n",
      " 0   question  16406 non-null  object\n",
      " 1   answer    16401 non-null  object\n",
      "dtypes: object(2)\n",
      "memory usage: 256.5+ KB\n"
     ]
    }
   ],
   "source": [
    "# inspect data types\n",
    "df.info()"
   ]
  },
  {
   "cell_type": "code",
   "execution_count": 9,
   "metadata": {},
   "outputs": [
    {
     "name": "stdout",
     "output_type": "stream",
     "text": [
      "Max question length: 191\n",
      "Max answer length: 29046\n"
     ]
    }
   ],
   "source": [
    "# max question length\n",
    "max_q_len = df[\"question\"].str.len().max()\n",
    "print(f\"Max question length: {int(max_q_len)}\")\n",
    "\n",
    "# max answer length\n",
    "max_a_len = df[\"answer\"].str.len().max()\n",
    "print(f\"Max answer length: {int(max_a_len)}\")"
   ]
  },
  {
   "cell_type": "code",
   "execution_count": 10,
   "metadata": {},
   "outputs": [],
   "source": [
    "# compute quartiles counts and lengths\n",
    "quartile_counts = {}\n",
    "quartile_lengths = {}\n",
    "\n",
    "for col in df.columns:\n",
    "    # length of each string in the column\n",
    "    lengths = df[col].str.len()\n",
    "    \n",
    "    # compute quartiles\n",
    "    Q1, Q2, Q3 = lengths.quantile([0.25, 0.50, 0.75])\n",
    "    \n",
    "    # count how many strings fall into each range\n",
    "    count_less_Q1 = (lengths < Q1).sum()\n",
    "    count_Q1_Q2 = ((lengths >= Q1) & (lengths < Q2)).sum()\n",
    "    count_Q2_Q3 = ((lengths >= Q2) & (lengths < Q3)).sum()\n",
    "    count_greater_Q3 = (lengths >= Q3).sum()\n",
    "    \n",
    "    quartile_counts[col] = {\n",
    "        'less_than_Q1': count_less_Q1,\n",
    "        'Q1_to_Q2': count_Q1_Q2,\n",
    "        'Q2_to_Q3': count_Q2_Q3,\n",
    "        'greater_than_Q3': count_greater_Q3\n",
    "    }\n",
    "\n",
    "    quartile_lengths[col] = {\n",
    "        'Q1': Q1,\n",
    "        'Q2': Q2,\n",
    "        'Q3': Q3\n",
    "    }\n"
   ]
  },
  {
   "cell_type": "code",
   "execution_count": 11,
   "metadata": {},
   "outputs": [
    {
     "name": "stdout",
     "output_type": "stream",
     "text": [
      "Counts for column: question\n",
      "{'less_than_Q1': 3784, 'Q1_to_Q2': 4103, 'Q2_to_Q3': 4417, 'greater_than_Q3': 4102}\n",
      "Counts for column: answer\n",
      "{'less_than_Q1': 4097, 'Q1_to_Q2': 4095, 'Q2_to_Q3': 4108, 'greater_than_Q3': 4101}\n"
     ]
    }
   ],
   "source": [
    "# show quartile counts\n",
    "for col in quartile_counts.keys():\n",
    "    print(f\"Counts for column: {col}\")\n",
    "    print(quartile_counts[col])"
   ]
  },
  {
   "cell_type": "code",
   "execution_count": 12,
   "metadata": {},
   "outputs": [
    {
     "name": "stdout",
     "output_type": "stream",
     "text": [
      "Quartile lengths for column: question\n",
      "{'Q1': 38.0, 'Q2': 48.0, 'Q3': 60.75}\n",
      "Quartile lengths for column: answer\n",
      "{'Q1': 487.0, 'Q2': 889.0, 'Q3': 1588.0}\n"
     ]
    }
   ],
   "source": [
    "# show quartile split lengths\n",
    "for col in quartile_lengths.keys():\n",
    "    print(f\"Quartile lengths for column: {col}\")\n",
    "    print(quartile_lengths[col])"
   ]
  },
  {
   "cell_type": "markdown",
   "metadata": {},
   "source": [
    "## Data preprocessing"
   ]
  },
  {
   "cell_type": "code",
   "execution_count": 13,
   "metadata": {},
   "outputs": [
    {
     "data": {
      "text/plain": [
       "(14976, 2)"
      ]
     },
     "execution_count": 13,
     "metadata": {},
     "output_type": "execute_result"
    }
   ],
   "source": [
    "# remove rows with missing values and duplicates\n",
    "df = df.dropna()\n",
    "df = df.drop_duplicates(subset=['question'], keep='first')\n",
    "\n",
    "df.shape"
   ]
  },
  {
   "cell_type": "markdown",
   "metadata": {},
   "source": [
    "## Fine-tuning"
   ]
  },
  {
   "cell_type": "code",
   "execution_count": 14,
   "metadata": {},
   "outputs": [],
   "source": [
    "from datasets import Dataset"
   ]
  },
  {
   "cell_type": "code",
   "execution_count": 15,
   "metadata": {},
   "outputs": [
    {
     "data": {
      "text/plain": [
       "DatasetDict({\n",
       "    train: Dataset({\n",
       "        features: ['question', 'answer', '__index_level_0__'],\n",
       "        num_rows: 11980\n",
       "    })\n",
       "    test: Dataset({\n",
       "        features: ['question', 'answer', '__index_level_0__'],\n",
       "        num_rows: 2996\n",
       "    })\n",
       "})"
      ]
     },
     "execution_count": 15,
     "metadata": {},
     "output_type": "execute_result"
    }
   ],
   "source": [
    "# load split data into dataset\n",
    "dataset = Dataset.from_pandas(df)\n",
    "dataset = dataset.train_test_split(test_size=0.2, seed=0)\n",
    "\n",
    "dataset"
   ]
  },
  {
   "cell_type": "markdown",
   "metadata": {},
   "source": [
    "## Fine-tuning"
   ]
  },
  {
   "cell_type": "code",
   "execution_count": 16,
   "metadata": {},
   "outputs": [],
   "source": [
    "from transformers import T5ForConditionalGeneration, T5TokenizerFast\n",
    "from transformers import TrainingArguments, Trainer\n",
    "from transformers import DataCollatorForSeq2Seq"
   ]
  },
  {
   "cell_type": "code",
   "execution_count": 17,
   "metadata": {},
   "outputs": [],
   "source": [
    "# define model, tokenizer and data collator\n",
    "model_name = \"google/flan-t5-base\"\n",
    "\n",
    "tokenizer = T5TokenizerFast.from_pretrained(model_name)\n",
    "model = T5ForConditionalGeneration.from_pretrained(model_name).to(\"cuda\")\n",
    "data_collator = DataCollatorForSeq2Seq(tokenizer=tokenizer, model=model)"
   ]
  },
  {
   "cell_type": "code",
   "execution_count": 18,
   "metadata": {},
   "outputs": [],
   "source": [
    "# define t5 task prefix\n",
    "prefix = \"Please answer this medical question: \"\n",
    "\n",
    "# define max question and answer length\n",
    "max_source_tokens = 128\n",
    "max_sample_tokens = 128\n",
    "\n",
    "def preprocess_function(examples):\n",
    "    \"\"\"Preprocess function for T5 model.\"\"\"\n",
    "\n",
    "    inputs = [prefix + example for example in examples[\"question\"]]\n",
    "    model_inputs = tokenizer(inputs, max_length=max_source_tokens, truncation=True)\n",
    "\n",
    "    labels = tokenizer(text_target=examples[\"answer\"], max_length=max_sample_tokens, truncation=True)\n",
    "    model_inputs[\"labels\"] = labels[\"input_ids\"]\n",
    "    return model_inputs"
   ]
  },
  {
   "cell_type": "code",
   "execution_count": 19,
   "metadata": {},
   "outputs": [
    {
     "data": {
      "application/vnd.jupyter.widget-view+json": {
       "model_id": "9d3df479427f4c70a483777d4f654e6f",
       "version_major": 2,
       "version_minor": 0
      },
      "text/plain": [
       "Map:   0%|          | 0/11980 [00:00<?, ? examples/s]"
      ]
     },
     "metadata": {},
     "output_type": "display_data"
    },
    {
     "data": {
      "application/vnd.jupyter.widget-view+json": {
       "model_id": "c6ca8849fe1546d4b2f1288cfdb77186",
       "version_major": 2,
       "version_minor": 0
      },
      "text/plain": [
       "Map:   0%|          | 0/2996 [00:00<?, ? examples/s]"
      ]
     },
     "metadata": {},
     "output_type": "display_data"
    }
   ],
   "source": [
    "# preprocess dataset\n",
    "tokenized_datasets = dataset.map(preprocess_function, batched=True, remove_columns=[\"question\", \"answer\", \"__index_level_0__\"])"
   ]
  },
  {
   "cell_type": "code",
   "execution_count": 20,
   "metadata": {},
   "outputs": [
    {
     "name": "stderr",
     "output_type": "stream",
     "text": [
      "/home/felipe/miniconda3/envs/simbiose/lib/python3.11/site-packages/transformers/training_args.py:1568: FutureWarning: `evaluation_strategy` is deprecated and will be removed in version 4.46 of 🤗 Transformers. Use `eval_strategy` instead\n",
      "  warnings.warn(\n"
     ]
    }
   ],
   "source": [
    "# define training arguments\n",
    "training_args = TrainingArguments(\n",
    "    output_dir=\"./data/results\",\n",
    "    evaluation_strategy=\"epoch\",\n",
    "    learning_rate=5e-5,\n",
    "    per_device_train_batch_size=8,\n",
    "    per_device_eval_batch_size=8,\n",
    "    num_train_epochs=3,\n",
    "    weight_decay=0.01,\n",
    "    logging_steps=100,\n",
    "    save_total_limit=2,\n",
    "    push_to_hub=False\n",
    ")"
   ]
  },
  {
   "cell_type": "code",
   "execution_count": 21,
   "metadata": {},
   "outputs": [
    {
     "name": "stderr",
     "output_type": "stream",
     "text": [
      "/tmp/ipykernel_5640/1326481611.py:2: FutureWarning: `tokenizer` is deprecated and will be removed in version 5.0.0 for `Trainer.__init__`. Use `processing_class` instead.\n",
      "  trainer = Trainer(\n"
     ]
    }
   ],
   "source": [
    "# define trainer\n",
    "trainer = Trainer(\n",
    "    model=model,\n",
    "    args=training_args,\n",
    "    train_dataset=tokenized_datasets[\"train\"],\n",
    "    eval_dataset=tokenized_datasets[\"test\"],\n",
    "    tokenizer=tokenizer,\n",
    "    data_collator=data_collator\n",
    ")"
   ]
  },
  {
   "cell_type": "code",
   "execution_count": 22,
   "metadata": {},
   "outputs": [
    {
     "name": "stderr",
     "output_type": "stream",
     "text": [
      "Passing a tuple of `past_key_values` is deprecated and will be removed in Transformers v4.48.0. You should pass an instance of `EncoderDecoderCache` instead, e.g. `past_key_values=EncoderDecoderCache.from_legacy_cache(past_key_values)`.\n"
     ]
    },
    {
     "data": {
      "text/html": [
       "\n",
       "    <div>\n",
       "      \n",
       "      <progress value='4494' max='4494' style='width:300px; height:20px; vertical-align: middle;'></progress>\n",
       "      [4494/4494 27:25, Epoch 3/3]\n",
       "    </div>\n",
       "    <table border=\"1\" class=\"dataframe\">\n",
       "  <thead>\n",
       " <tr style=\"text-align: left;\">\n",
       "      <th>Epoch</th>\n",
       "      <th>Training Loss</th>\n",
       "      <th>Validation Loss</th>\n",
       "    </tr>\n",
       "  </thead>\n",
       "  <tbody>\n",
       "    <tr>\n",
       "      <td>1</td>\n",
       "      <td>1.839300</td>\n",
       "      <td>1.635396</td>\n",
       "    </tr>\n",
       "    <tr>\n",
       "      <td>2</td>\n",
       "      <td>1.736500</td>\n",
       "      <td>1.572415</td>\n",
       "    </tr>\n",
       "    <tr>\n",
       "      <td>3</td>\n",
       "      <td>1.684200</td>\n",
       "      <td>1.556254</td>\n",
       "    </tr>\n",
       "  </tbody>\n",
       "</table><p>"
      ],
      "text/plain": [
       "<IPython.core.display.HTML object>"
      ]
     },
     "metadata": {},
     "output_type": "display_data"
    }
   ],
   "source": [
    "# train model\n",
    "metrics = trainer.train()"
   ]
  },
  {
   "cell_type": "code",
   "execution_count": 23,
   "metadata": {},
   "outputs": [
    {
     "data": {
      "text/plain": [
       "{'model_name': 'google/flan-t5-base',\n",
       " 'dataset_shape': {'train': (11980, 3), 'test': (2996, 3)},\n",
       " 'max_source_tokens': 128,\n",
       " 'max_sample_tokens': 128,\n",
       " 'metrics': TrainOutput(global_step=4494, training_loss=1.8207663997417565, metrics={'train_runtime': 1645.8838, 'train_samples_per_second': 21.836, 'train_steps_per_second': 2.73, 'total_flos': 1476379649212416.0, 'train_loss': 1.8207663997417565, 'epoch': 3.0})}"
      ]
     },
     "execution_count": 23,
     "metadata": {},
     "output_type": "execute_result"
    }
   ],
   "source": [
    "# store experiment results\n",
    "experiment = {\n",
    "    \"model_name\": model_name,\n",
    "    \"dataset_shape\": dataset.shape,\n",
    "    \"max_source_tokens\": max_source_tokens,\n",
    "    \"max_sample_tokens\": max_sample_tokens,\n",
    "    \"metrics\": metrics,\n",
    "}\n",
    "\n",
    "experiment"
   ]
  },
  {
   "cell_type": "code",
   "execution_count": 24,
   "metadata": {},
   "outputs": [],
   "source": [
    "def save_experiment(experiment):\n",
    "    \"\"\"Save experiment results to json file.\"\"\"\n",
    "    \n",
    "    # detect last experiment number on filename\n",
    "    experiment_path = f\"./data/experiments/\"\n",
    "    experiment_path += f\"experiment_{len([name for name in os.listdir(experiment_path) if 'experiment' in name]) + 1}.json\"\n",
    "    \n",
    "    # save experiment data\n",
    "    with open(experiment_path, 'w') as f:\n",
    "        json.dump(experiment, f, indent=4)\n",
    "\n",
    "    # save model\n",
    "    model_path = f\"./data/experiments/model_{experiment_path.split('_')[-1].split('.')[0]}\"\n",
    "    model.save_pretrained(model_path)"
   ]
  },
  {
   "cell_type": "code",
   "execution_count": 25,
   "metadata": {},
   "outputs": [],
   "source": [
    "# save experiment and model\n",
    "save_experiment(experiment)"
   ]
  },
  {
   "cell_type": "markdown",
   "metadata": {},
   "source": [
    "## Inference"
   ]
  },
  {
   "cell_type": "code",
   "execution_count": 26,
   "metadata": {},
   "outputs": [
    {
     "data": {
      "text/plain": [
       "{'question': 'What is (are) X-linked myotubular myopathy ?',\n",
       " 'answer': 'X-linked myotubular myopathy is a condition that primarily affects muscles used for movement (skeletal muscles) and occurs almost exclusively in males. People with this condition have muscle weakness (myopathy) and decreased muscle tone (hypotonia) that are usually evident at birth.  The muscle problems in X-linked myotubular myopathy impair the development of motor skills such as sitting, standing, and walking. Affected infants may also have difficulties with feeding due to muscle weakness. Individuals with this condition often do not have the muscle strength to breathe on their own and must be supported with a machine to help them breathe (mechanical ventilation). Some affected individuals need breathing assistance only periodically, typically during sleep, while others require it continuously. People with X-linked myotubular myopathy may also have weakness in the muscles that control eye movement (ophthalmoplegia), weakness in other muscles of the face, and absent reflexes (areflexia).  In X-linked myotubular myopathy, muscle weakness often disrupts normal bone development and can lead to fragile bones, an abnormal curvature of the spine (scoliosis), and joint deformities (contractures) of the hips and knees. People with X-linked myotubular myopathy may have a large head with a narrow and elongated face and a high, arched roof of the mouth (palate). They may also have liver disease, recurrent ear and respiratory infections, or seizures.  Because of their severe breathing problems, individuals with X-linked myotubular myopathy usually survive only into early childhood; however, some people with this condition have lived into adulthood.  X-linked myotubular myopathy is a member of a group of disorders called centronuclear myopathies. In centronuclear myopathies, the nucleus is found at the center of many rod-shaped muscle cells instead of at either end, where it is normally located.',\n",
       " '__index_level_0__': 14351}"
      ]
     },
     "execution_count": 26,
     "metadata": {},
     "output_type": "execute_result"
    }
   ],
   "source": [
    "dataset[\"train\"][0]"
   ]
  },
  {
   "cell_type": "code",
   "execution_count": 27,
   "metadata": {},
   "outputs": [],
   "source": [
    "question = dataset[\"train\"][0][\"question\"]"
   ]
  },
  {
   "cell_type": "code",
   "execution_count": 28,
   "metadata": {},
   "outputs": [
    {
     "name": "stdout",
     "output_type": "stream",
     "text": [
      "X-linked myotubular myopathy is a condition characterized by abnormalities of the myotubules (myotubules). The myotubules (myotubules) are a group of structures that make up the myotubules. Myotubular myopathy is a condition characterized by abnormalities of the myotubules (myotubules) and abnormalities of the myotubules (myotubules). X-linked myotubular myopathy is\n"
     ]
    }
   ],
   "source": [
    "# inference analysis A\n",
    "input_text = prefix + question\n",
    "input_ids = tokenizer.encode(input_text, return_tensors=\"pt\")\n",
    "input_ids = input_ids.to(\"cuda\")\n",
    "output_ids = model.generate(\n",
    "    input_ids,\n",
    "    max_length=max_a_len,\n",
    "    num_beams=4,\n",
    "    early_stopping=True\n",
    ")\n",
    "\n",
    "print(tokenizer.decode(output_ids[0], skip_special_tokens=True))"
   ]
  },
  {
   "cell_type": "code",
   "execution_count": 29,
   "metadata": {},
   "outputs": [
    {
     "name": "stdout",
     "output_type": "stream",
     "text": [
      "X-linked myotubular myopathy is a disorder that affects the body and the nerves within the nervous system. It can develop at any age and can cause shortness of breath (difference to the blinking pattern of light) and difficulty breathing. Some people may experience long-term cognitive decline with spasticity or stiffness; in others, a shortness of breath or rapid heartbeat may result. The signs and symptoms of X-linked myotubular myopathy occur when the abnormal elasticity of nerve cells and the ability to connect blood vessels (fibromyalgi\n"
     ]
    }
   ],
   "source": [
    "# inference analysis B\n",
    "input_text = prefix + question\n",
    "input_ids = tokenizer.encode(input_text, return_tensors=\"pt\")\n",
    "input_ids = input_ids.to(\"cuda\")\n",
    "output_ids = model.generate(\n",
    "    input_ids,\n",
    "    max_length=max_a_len,\n",
    "    do_sample=True,\n",
    "    top_k=50,\n",
    "    top_p=0.95,\n",
    "    repetition_penalty=1.2,\n",
    "    num_return_sequences=3,\n",
    ")\n",
    "\n",
    "print(tokenizer.decode(output_ids[0], skip_special_tokens=True))"
   ]
  }
 ],
 "metadata": {
  "kernelspec": {
   "display_name": "simbiose",
   "language": "python",
   "name": "python3"
  },
  "language_info": {
   "codemirror_mode": {
    "name": "ipython",
    "version": 3
   },
   "file_extension": ".py",
   "mimetype": "text/x-python",
   "name": "python",
   "nbconvert_exporter": "python",
   "pygments_lexer": "ipython3",
   "version": "3.11.11"
  }
 },
 "nbformat": 4,
 "nbformat_minor": 2
}
